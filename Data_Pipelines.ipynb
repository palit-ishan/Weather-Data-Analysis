{
  "nbformat": 4,
  "nbformat_minor": 0,
  "metadata": {
    "colab": {
      "provenance": [],
      "toc_visible": true,
      "authorship_tag": "ABX9TyOJXDG+l7jWwRz+5Dysb3Um",
      "include_colab_link": true
    },
    "kernelspec": {
      "name": "python3",
      "display_name": "Python 3"
    },
    "language_info": {
      "name": "python"
    }
  },
  "cells": [
    {
      "cell_type": "markdown",
      "metadata": {
        "id": "view-in-github",
        "colab_type": "text"
      },
      "source": [
        "<a href=\"https://colab.research.google.com/github/palit-ishan/Data-Pipeline/blob/main/Data_Pipelines.ipynb\" target=\"_parent\"><img src=\"https://colab.research.google.com/assets/colab-badge.svg\" alt=\"Open In Colab\"/></a>"
      ]
    },
    {
      "cell_type": "markdown",
      "source": [
        "##Code to scrape data from OpenWeather API using API Key"
      ],
      "metadata": {
        "id": "cxPIfOjB-HPT"
      }
    },
    {
      "cell_type": "code",
      "source": [
        "import requests\n",
        "import sqlite3\n",
        "from datetime import datetime\n",
        "\n",
        "# API Client\n",
        "def fetch_weather_data(api_key, city):\n",
        "    url = f'http://api.openweathermap.org/data/2.5/weather?q={city}&appid={api_key}'\n",
        "    response = requests.get(url)\n",
        "    if response.status_code == 200:\n",
        "        return response.json()\n",
        "    else:\n",
        "        print(\"Failed to fetch data:\", response.status_code)\n",
        "        return None\n",
        "\n",
        "# Database Storage\n",
        "def create_connection(db_file):\n",
        "    try:\n",
        "        conn = sqlite3.connect(db_file)\n",
        "        return conn\n",
        "    except sqlite3.Error as e:\n",
        "        print(e)\n",
        "    return None\n",
        "\n",
        "def create_table(conn):\n",
        "    create_table_sql = '''\n",
        "    CREATE TABLE IF NOT EXISTS weather_data (\n",
        "        id INTEGER PRIMARY KEY,\n",
        "        city TEXT NOT NULL,\n",
        "        temperature REAL,\n",
        "        humidity REAL,\n",
        "        timestamp DATETIME\n",
        "    );\n",
        "    '''\n",
        "    try:\n",
        "        c = conn.cursor()\n",
        "        c.execute(create_table_sql)\n",
        "    except sqlite3.Error as e:\n",
        "        print(e)\n",
        "\n",
        "def insert_data(conn, data):\n",
        "    sql = ''' INSERT INTO weather_data(city, temperature, humidity, timestamp)\n",
        "              VALUES(?,?,?,?) '''\n",
        "    cur = conn.cursor()\n",
        "    cur.execute(sql, data)\n",
        "    conn.commit()\n",
        "    return cur.lastrowid\n",
        "\n",
        "if __name__ == \"__main__\":\n",
        "    api_key = \"4d0031a5ae2f0c28e3f8bed5939fabd0\"  # Replace with your sample API key\n",
        "    city = 'New York'  # Sample city\n",
        "\n",
        "    # Fetch weather data\n",
        "    weather_data = fetch_weather_data(api_key, city)\n",
        "\n",
        "    if weather_data:\n",
        "        # Extract relevant information\n",
        "        city_name = weather_data['name']\n",
        "        temperature = weather_data['main']['temp']\n",
        "        humidity = weather_data['main']['humidity']\n",
        "        timestamp = datetime.now()\n",
        "\n",
        "        # Create SQLite database connection\n",
        "        database = 'weather_data.db'\n",
        "        conn = create_connection(database)\n",
        "\n",
        "        if conn:\n",
        "            # Create table if not exists\n",
        "            create_table(conn)\n",
        "\n",
        "            # Insert data into the database\n",
        "            data_to_insert = (city_name, temperature, humidity, timestamp)\n",
        "            insert_data(conn, data_to_insert)\n",
        "\n",
        "            print(\"Data successfully inserted into the database.\")\n",
        "\n",
        "            # Close database connection\n",
        "            conn.close()\n",
        "        else:\n",
        "            print(\"Failed to connect to the database.\")\n",
        "    else:\n",
        "        print(\"No weather data fetched. Check your API key or city name.\")\n"
      ],
      "metadata": {
        "colab": {
          "base_uri": "https://localhost:8080/"
        },
        "id": "pBCDuHOsArOF",
        "outputId": "97a40f4e-057b-40ad-861e-2a2b463c7d65"
      },
      "execution_count": 1,
      "outputs": [
        {
          "output_type": "stream",
          "name": "stdout",
          "text": [
            "Data successfully inserted into the database.\n"
          ]
        }
      ]
    },
    {
      "cell_type": "markdown",
      "source": [
        "##Code for Querying Weather Data from Database (SQLite)"
      ],
      "metadata": {
        "id": "vbucchvvrtLf"
      }
    },
    {
      "cell_type": "code",
      "source": [
        "def query_data(conn, query):\n",
        "    cur = conn.cursor()\n",
        "    cur.execute(query)\n",
        "    rows = cur.fetchall()\n",
        "    return rows\n",
        "\n",
        "if __name__ == \"__main__\":\n",
        "    database = 'weather_data.db'\n",
        "    conn = sqlite3.connect(database)\n",
        "\n",
        "    if conn:\n",
        "        # Example queries\n",
        "        # Query 1: Retrieve all data\n",
        "        query1 = \"SELECT * FROM weather_data;\"\n",
        "        result1 = query_data(conn, query1)\n",
        "        print(\"All weather data:\")\n",
        "        for row in result1:\n",
        "            print(row)\n",
        "\n",
        "        # Query 2: Retrieve data for a specific city\n",
        "        city_name = 'New York'\n",
        "        query2 = f\"SELECT * FROM weather_data WHERE city='{city_name}';\"\n",
        "        result2 = query_data(conn, query2)\n",
        "        print(f\"Weather data for {city_name}:\")\n",
        "        for row in result2:\n",
        "            print(row)\n",
        "\n",
        "        # Query 3: Retrieve data for a specific date range (e.g., last 24 hours)\n",
        "        query3 = \"SELECT * FROM weather_data WHERE timestamp >= datetime('now', '-1 day');\"\n",
        "        result3 = query_data(conn, query3)\n",
        "        print(\"Weather data for the last 24 hours:\")\n",
        "        for row in result3:\n",
        "            print(row)\n",
        "\n",
        "        conn.close()\n",
        "    else:\n",
        "        print(\"Failed to connect to the database.\")\n"
      ],
      "metadata": {
        "colab": {
          "base_uri": "https://localhost:8080/"
        },
        "id": "wFfxGqMTrsWg",
        "outputId": "1ad31d81-fdae-478e-fd57-a32e54665322"
      },
      "execution_count": 2,
      "outputs": [
        {
          "output_type": "stream",
          "name": "stdout",
          "text": [
            "All weather data:\n",
            "(1, 'New York', 278.73, 47.0, '2024-02-03 19:02:50.894937')\n",
            "Weather data for New York:\n",
            "(1, 'New York', 278.73, 47.0, '2024-02-03 19:02:50.894937')\n",
            "Weather data for the last 24 hours:\n",
            "(1, 'New York', 278.73, 47.0, '2024-02-03 19:02:50.894937')\n"
          ]
        }
      ]
    }
  ]
}