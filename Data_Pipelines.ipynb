{
  "nbformat": 4,
  "nbformat_minor": 0,
  "metadata": {
    "colab": {
      "provenance": [],
      "toc_visible": true,
      "authorship_tag": "ABX9TyMSbBFp1mjLK0e3cwdRRvfX",
      "include_colab_link": true
    },
    "kernelspec": {
      "name": "python3",
      "display_name": "Python 3"
    },
    "language_info": {
      "name": "python"
    }
  },
  "cells": [
    {
      "cell_type": "markdown",
      "metadata": {
        "id": "view-in-github",
        "colab_type": "text"
      },
      "source": [
        "<a href=\"https://colab.research.google.com/github/palit-ishan/Data-Pipeline/blob/main/Data_Pipelines.ipynb\" target=\"_parent\"><img src=\"https://colab.research.google.com/assets/colab-badge.svg\" alt=\"Open In Colab\"/></a>"
      ]
    },
    {
      "cell_type": "markdown",
      "source": [
        "##Boiler Plate Code for Creating Database and Loading Data"
      ],
      "metadata": {
        "id": "XAQUDzi9krBL"
      }
    },
    {
      "cell_type": "code",
      "source": [
        "\"\"\" Installing Required Packages \"\"\""
      ],
      "metadata": {
        "id": "0azugD8mejPi",
        "colab": {
          "base_uri": "https://localhost:8080/",
          "height": 35
        },
        "outputId": "275caf63-c8d6-4036-e06a-b8de72e790d4"
      },
      "execution_count": null,
      "outputs": [
        {
          "output_type": "execute_result",
          "data": {
            "text/plain": [
              "' Installing Required Packages '"
            ],
            "application/vnd.google.colaboratory.intrinsic+json": {
              "type": "string"
            }
          },
          "metadata": {},
          "execution_count": 14
        }
      ]
    },
    {
      "cell_type": "code",
      "execution_count": null,
      "metadata": {
        "colab": {
          "base_uri": "https://localhost:8080/"
        },
        "id": "rMg2Uh3IPrpD",
        "outputId": "023e5661-52ca-4e59-bd8e-0b5e9dfc415f"
      },
      "outputs": [
        {
          "output_type": "stream",
          "name": "stdout",
          "text": [
            "Requirement already satisfied: mysql-connector-python in /usr/local/lib/python3.10/dist-packages (8.3.0)\n"
          ]
        }
      ],
      "source": [
        "!pip install mysql-connector-python"
      ]
    },
    {
      "cell_type": "code",
      "source": [
        "\"\"\" Install My SQL Server and Starting the Server \"\"\"\n",
        "!apt-get -y install mysql-server\n",
        "!service mysql start"
      ],
      "metadata": {
        "colab": {
          "base_uri": "https://localhost:8080/"
        },
        "id": "XDcDUz-uevs9",
        "outputId": "8d915fd5-2760-43e2-8095-e63be7176024"
      },
      "execution_count": null,
      "outputs": [
        {
          "output_type": "stream",
          "name": "stdout",
          "text": [
            "Reading package lists... Done\n",
            "Building dependency tree... Done\n",
            "Reading state information... Done\n",
            "mysql-server is already the newest version (8.0.35-0ubuntu0.22.04.1).\n",
            "0 upgraded, 0 newly installed, 0 to remove and 24 not upgraded.\n",
            " * Starting MySQL database server mysqld\n",
            "   ...done.\n"
          ]
        }
      ]
    },
    {
      "cell_type": "code",
      "source": [
        "# Securing Database Connection\n",
        "!mysql -e \"ALTER USER 'root'@'localhost' IDENTIFIED WITH 'mysql_native_password' BY 'root';FLUSH PRIVILEGES;\""
      ],
      "metadata": {
        "id": "IsLHekeoghzk",
        "colab": {
          "base_uri": "https://localhost:8080/"
        },
        "outputId": "5d3e2e6d-c626-4e84-beb3-3fa09cd96bee"
      },
      "execution_count": null,
      "outputs": [
        {
          "output_type": "stream",
          "name": "stdout",
          "text": [
            "ERROR 1045 (28000): Access denied for user 'root'@'localhost' (using password: NO)\n"
          ]
        }
      ]
    },
    {
      "cell_type": "code",
      "source": [
        "\"\"\" Connect to MySQL \"\"\"\n",
        "import mysql.connector\n",
        "\n",
        "# Create a connection to the MySQL server\n",
        "conn = mysql.connector.connect(user='root', password='root', host='localhost')\n",
        "\n",
        "# Create a cursor to interact with the MySQL server\n",
        "cursor = conn.cursor()"
      ],
      "metadata": {
        "id": "iLHZEpFrgtxu"
      },
      "execution_count": null,
      "outputs": []
    },
    {
      "cell_type": "code",
      "source": [
        "\"\"\" Creating and Designing a Database \"\"\"\n",
        "# Create a new database named 'library'\n",
        "cursor.execute(\"CREATE DATABASE IF NOT EXISTS library\")\n",
        "\n",
        "# Switch to the 'library' database\n",
        "cursor.execute(\"USE library\")\n",
        "\n",
        "# Create the 'books' table\n",
        "cursor.execute('''\n",
        "CREATE TABLE IF NOT EXISTS books (\n",
        "    id INT AUTO_INCREMENT PRIMARY KEY,\n",
        "    title VARCHAR(255) NOT NULL,\n",
        "    author VARCHAR(255) NOT NULL,\n",
        "    year_published INT\n",
        ")\n",
        "''')\n",
        "\n",
        "# Always remember to close the cursor and connection when done\n",
        "cursor.close()\n",
        "conn.close()"
      ],
      "metadata": {
        "id": "ItDyJ4rhkyOZ"
      },
      "execution_count": null,
      "outputs": []
    },
    {
      "cell_type": "code",
      "source": [
        "# Populating the Database\n",
        "import mysql.connector\n",
        "\n",
        "# Connect to the MySQL server and the 'library' database\n",
        "conn = mysql.connector.connect(user='root', password='root', host='localhost', database='library')\n",
        "cursor = conn.cursor()\n",
        "\n",
        "books_data = [\n",
        "    (\"To Kill a Mockingbird\", \"Harper Lee\", 1960),\n",
        "    (\"1984\", \"George Orwell\", 1949),\n",
        "    (\"The Great Gatsby\", \"F. Scott Fitzgerald\", 1925)\n",
        "]\n",
        "\n",
        "# Insert data using the cursor\n",
        "cursor.executemany('''\n",
        "INSERT INTO books (title, author, year_published) VALUES (%s, %s, %s)\n",
        "''', books_data)\n",
        "\n",
        "# Commit the changes\n",
        "conn.commit()\n",
        "\n",
        "# Close the cursor and connection\n",
        "cursor.close()\n",
        "conn.close()"
      ],
      "metadata": {
        "id": "sOrnDECAlABO"
      },
      "execution_count": null,
      "outputs": []
    },
    {
      "cell_type": "code",
      "source": [
        "\"\"\" Sample Query of Database \"\"\"\n",
        "import mysql.connector\n",
        "\n",
        "# Connect to the MySQL server and the 'library' database\n",
        "conn = mysql.connector.connect(user='root', password='root', host='localhost', database='library')\n",
        "cursor = conn.cursor()\n",
        "\n",
        "# Execute the SELECT query\n",
        "cursor.execute(\"SELECT * FROM books\")\n",
        "\n",
        "# Fetch all the results\n",
        "records = cursor.fetchall()\n",
        "\n",
        "# Print the records\n",
        "for record in records:\n",
        "    print(record)\n",
        "\n",
        "# Close the cursor and connection\n",
        "cursor.close()\n",
        "conn.close()"
      ],
      "metadata": {
        "colab": {
          "base_uri": "https://localhost:8080/"
        },
        "id": "bf9slt1LmZEX",
        "outputId": "58cd37ce-e72f-4abf-fad2-72c06251479e"
      },
      "execution_count": null,
      "outputs": [
        {
          "output_type": "stream",
          "name": "stdout",
          "text": [
            "(1, 'To Kill a Mockingbird', 'Harper Lee', 1960)\n",
            "(2, '1984', 'George Orwell', 1949)\n",
            "(3, 'The Great Gatsby', 'F. Scott Fitzgerald', 1925)\n",
            "(4, 'To Kill a Mockingbird', 'Harper Lee', 1960)\n",
            "(5, '1984', 'George Orwell', 1949)\n",
            "(6, 'The Great Gatsby', 'F. Scott Fitzgerald', 1925)\n"
          ]
        }
      ]
    },
    {
      "cell_type": "code",
      "source": [
        "import mysql.connector\n",
        "\n",
        "# Connect to the MySQL server and the 'library' database\n",
        "conn = mysql.connector.connect(user='root', password='root', host='localhost', database='library')\n",
        "cursor = conn.cursor()\n",
        "cursor.execute(\"SELECT * FROM books WHERE year_published < 1950\")\n",
        "classics = cursor.fetchall()\n",
        "for classic in classics:\n",
        "  print(classic)"
      ],
      "metadata": {
        "colab": {
          "base_uri": "https://localhost:8080/"
        },
        "id": "dL7R5QA6wvr9",
        "outputId": "84839fa1-0ddd-43fd-fd15-0fc4b23e0113"
      },
      "execution_count": null,
      "outputs": [
        {
          "output_type": "stream",
          "name": "stdout",
          "text": [
            "(2, '1984', 'George Orwell', 1949)\n",
            "(3, 'The Great Gatsby', 'F. Scott Fitzgerald', 1925)\n",
            "(5, '1984', 'George Orwell', 1949)\n",
            "(6, 'The Great Gatsby', 'F. Scott Fitzgerald', 1925)\n"
          ]
        }
      ]
    },
    {
      "cell_type": "code",
      "source": [
        "# Docking\n",
        "cursor.close()\n",
        "conn.close()"
      ],
      "metadata": {
        "id": "YoJ6cuQcwxKP"
      },
      "execution_count": null,
      "outputs": []
    },
    {
      "cell_type": "markdown",
      "source": [
        "##Code to scrape data from OpenWeather API using API Key"
      ],
      "metadata": {
        "id": "cxPIfOjB-HPT"
      }
    },
    {
      "cell_type": "code",
      "source": [
        "import requests\n",
        "import sqlite3\n",
        "from datetime import datetime\n",
        "\n",
        "# API Client\n",
        "def fetch_weather_data(api_key, city):\n",
        "    url = f'http://api.openweathermap.org/data/2.5/weather?q={city}&appid={api_key}'\n",
        "    response = requests.get(url)\n",
        "    if response.status_code == 200:\n",
        "        return response.json()\n",
        "    else:\n",
        "        print(\"Failed to fetch data:\", response.status_code)\n",
        "        return None\n",
        "\n",
        "# Database Storage\n",
        "def create_connection(db_file):\n",
        "    try:\n",
        "        conn = sqlite3.connect(db_file)\n",
        "        return conn\n",
        "    except sqlite3.Error as e:\n",
        "        print(e)\n",
        "    return None\n",
        "\n",
        "def create_table(conn):\n",
        "    create_table_sql = '''\n",
        "    CREATE TABLE IF NOT EXISTS weather_data (\n",
        "        id INTEGER PRIMARY KEY,\n",
        "        city TEXT NOT NULL,\n",
        "        temperature REAL,\n",
        "        humidity REAL,\n",
        "        timestamp DATETIME\n",
        "    );\n",
        "    '''\n",
        "    try:\n",
        "        c = conn.cursor()\n",
        "        c.execute(create_table_sql)\n",
        "    except sqlite3.Error as e:\n",
        "        print(e)\n",
        "\n",
        "def insert_data(conn, data):\n",
        "    sql = ''' INSERT INTO weather_data(city, temperature, humidity, timestamp)\n",
        "              VALUES(?,?,?,?) '''\n",
        "    cur = conn.cursor()\n",
        "    cur.execute(sql, data)\n",
        "    conn.commit()\n",
        "    return cur.lastrowid\n",
        "\n",
        "if __name__ == \"__main__\":\n",
        "    api_key = \"4d0031a5ae2f0c28e3f8bed5939fabd0\"  # Replace with your sample API key\n",
        "    city = 'New York'  # Sample city\n",
        "\n",
        "    # Fetch weather data\n",
        "    weather_data = fetch_weather_data(api_key, city)\n",
        "\n",
        "    if weather_data:\n",
        "        # Extract relevant information\n",
        "        city_name = weather_data['name']\n",
        "        temperature = weather_data['main']['temp']\n",
        "        humidity = weather_data['main']['humidity']\n",
        "        timestamp = datetime.now()\n",
        "\n",
        "        # Create SQLite database connection\n",
        "        database = 'weather_data.db'\n",
        "        conn = create_connection(database)\n",
        "\n",
        "        if conn:\n",
        "            # Create table if not exists\n",
        "            create_table(conn)\n",
        "\n",
        "            # Insert data into the database\n",
        "            data_to_insert = (city_name, temperature, humidity, timestamp)\n",
        "            insert_data(conn, data_to_insert)\n",
        "\n",
        "            print(\"Data successfully inserted into the database.\")\n",
        "\n",
        "            # Close database connection\n",
        "            conn.close()\n",
        "        else:\n",
        "            print(\"Failed to connect to the database.\")\n",
        "    else:\n",
        "        print(\"No weather data fetched. Check your API key or city name.\")\n"
      ],
      "metadata": {
        "colab": {
          "base_uri": "https://localhost:8080/"
        },
        "id": "pBCDuHOsArOF",
        "outputId": "43fec146-6164-4db9-d150-c4e59ef4f1c0"
      },
      "execution_count": 4,
      "outputs": [
        {
          "output_type": "stream",
          "name": "stdout",
          "text": [
            "Data successfully inserted into the database.\n"
          ]
        }
      ]
    },
    {
      "cell_type": "markdown",
      "source": [
        "##Code for Querying Weather Data from Database (SQLite)"
      ],
      "metadata": {
        "id": "vbucchvvrtLf"
      }
    },
    {
      "cell_type": "code",
      "source": [
        "def query_data(conn, query):\n",
        "    cur = conn.cursor()\n",
        "    cur.execute(query)\n",
        "    rows = cur.fetchall()\n",
        "    return rows\n",
        "\n",
        "if __name__ == \"__main__\":\n",
        "    database = 'weather_data.db'\n",
        "    conn = sqlite3.connect(database)\n",
        "\n",
        "    if conn:\n",
        "        # Example queries\n",
        "        # Query 1: Retrieve all data\n",
        "        query1 = \"SELECT * FROM weather_data;\"\n",
        "        result1 = query_data(conn, query1)\n",
        "        print(\"All weather data:\")\n",
        "        for row in result1:\n",
        "            print(row)\n",
        "\n",
        "        # Query 2: Retrieve data for a specific city\n",
        "        city_name = 'New York'\n",
        "        query2 = f\"SELECT * FROM weather_data WHERE city='{city_name}';\"\n",
        "        result2 = query_data(conn, query2)\n",
        "        print(f\"Weather data for {city_name}:\")\n",
        "        for row in result2:\n",
        "            print(row)\n",
        "\n",
        "        # Query 3: Retrieve data for a specific date range (e.g., last 24 hours)\n",
        "        query3 = \"SELECT * FROM weather_data WHERE timestamp >= datetime('now', '-1 day');\"\n",
        "        result3 = query_data(conn, query3)\n",
        "        print(\"Weather data for the last 24 hours:\")\n",
        "        for row in result3:\n",
        "            print(row)\n",
        "\n",
        "        conn.close()\n",
        "    else:\n",
        "        print(\"Failed to connect to the database.\")\n"
      ],
      "metadata": {
        "colab": {
          "base_uri": "https://localhost:8080/"
        },
        "id": "wFfxGqMTrsWg",
        "outputId": "1c561ede-22af-472f-f33b-7bfbb8c5ff0f"
      },
      "execution_count": 5,
      "outputs": [
        {
          "output_type": "stream",
          "name": "stdout",
          "text": [
            "All weather data:\n",
            "(1, 'Boston', 274.7, 92.0, '2024-01-29 00:46:17.491696')\n",
            "(2, 'New York', 276.25, 89.0, '2024-01-29 00:47:52.353799')\n",
            "Weather data for New York:\n",
            "(2, 'New York', 276.25, 89.0, '2024-01-29 00:47:52.353799')\n",
            "Weather data for the last 24 hours:\n",
            "(1, 'Boston', 274.7, 92.0, '2024-01-29 00:46:17.491696')\n",
            "(2, 'New York', 276.25, 89.0, '2024-01-29 00:47:52.353799')\n"
          ]
        }
      ]
    }
  ]
}